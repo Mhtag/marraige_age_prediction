{
 "cells": [
  {
   "cell_type": "code",
   "execution_count": null,
   "id": "55bd09d0",
   "metadata": {},
   "outputs": [],
   "source": []
  },
  {
   "cell_type": "code",
   "execution_count": null,
   "id": "d05a55e1",
   "metadata": {},
   "outputs": [],
   "source": []
  },
  {
   "cell_type": "code",
   "execution_count": 1,
   "id": "ddebdbfe",
   "metadata": {},
   "outputs": [
    {
     "name": "stdout",
     "output_type": "stream",
     "text": [
      "(2567, 10)\n"
     ]
    },
    {
     "data": {
      "text/html": [
       "<div>\n",
       "<style scoped>\n",
       "    .dataframe tbody tr th:only-of-type {\n",
       "        vertical-align: middle;\n",
       "    }\n",
       "\n",
       "    .dataframe tbody tr th {\n",
       "        vertical-align: top;\n",
       "    }\n",
       "\n",
       "    .dataframe thead th {\n",
       "        text-align: right;\n",
       "    }\n",
       "</style>\n",
       "<table border=\"1\" class=\"dataframe\">\n",
       "  <thead>\n",
       "    <tr style=\"text-align: right;\">\n",
       "      <th></th>\n",
       "      <th>id</th>\n",
       "      <th>gender</th>\n",
       "      <th>height</th>\n",
       "      <th>religion</th>\n",
       "      <th>caste</th>\n",
       "      <th>mother_tongue</th>\n",
       "      <th>profession</th>\n",
       "      <th>location</th>\n",
       "      <th>country</th>\n",
       "      <th>age_of_marriage</th>\n",
       "    </tr>\n",
       "  </thead>\n",
       "  <tbody>\n",
       "    <tr>\n",
       "      <th>0</th>\n",
       "      <td>1</td>\n",
       "      <td>female</td>\n",
       "      <td>5'4\"</td>\n",
       "      <td>NaN</td>\n",
       "      <td>others</td>\n",
       "      <td>Telugu</td>\n",
       "      <td>NaN</td>\n",
       "      <td>London</td>\n",
       "      <td>United Kingdom</td>\n",
       "      <td>21.0</td>\n",
       "    </tr>\n",
       "    <tr>\n",
       "      <th>1</th>\n",
       "      <td>2</td>\n",
       "      <td>male</td>\n",
       "      <td>5'7\"</td>\n",
       "      <td>Jain</td>\n",
       "      <td>Shwetamber</td>\n",
       "      <td>Gujarati</td>\n",
       "      <td>Doctor / Healthcare Professional</td>\n",
       "      <td>Fairfax- VA</td>\n",
       "      <td>USA</td>\n",
       "      <td>32.0</td>\n",
       "    </tr>\n",
       "    <tr>\n",
       "      <th>2</th>\n",
       "      <td>3</td>\n",
       "      <td>male</td>\n",
       "      <td>5'7\"</td>\n",
       "      <td>Hindu</td>\n",
       "      <td>Brahmin</td>\n",
       "      <td>Hindi</td>\n",
       "      <td>Entrepreneurs / Business</td>\n",
       "      <td>Begusarai</td>\n",
       "      <td>India</td>\n",
       "      <td>32.0</td>\n",
       "    </tr>\n",
       "    <tr>\n",
       "      <th>3</th>\n",
       "      <td>4</td>\n",
       "      <td>female</td>\n",
       "      <td>5'0\"</td>\n",
       "      <td>Hindu</td>\n",
       "      <td>Thakur</td>\n",
       "      <td>Hindi</td>\n",
       "      <td>Architect</td>\n",
       "      <td>Mumbai</td>\n",
       "      <td>India</td>\n",
       "      <td>30.0</td>\n",
       "    </tr>\n",
       "    <tr>\n",
       "      <th>4</th>\n",
       "      <td>5</td>\n",
       "      <td>male</td>\n",
       "      <td>5'5\"</td>\n",
       "      <td>Christian</td>\n",
       "      <td>Born Again</td>\n",
       "      <td>Malayalam</td>\n",
       "      <td>Sales Professional / Marketing</td>\n",
       "      <td>Sulthan Bathery</td>\n",
       "      <td>India</td>\n",
       "      <td>30.0</td>\n",
       "    </tr>\n",
       "  </tbody>\n",
       "</table>\n",
       "</div>"
      ],
      "text/plain": [
       "   id  gender height   religion        caste mother_tongue  \\\n",
       "0   1  female   5'4\"        NaN       others        Telugu   \n",
       "1   2    male   5'7\"       Jain   Shwetamber      Gujarati   \n",
       "2   3    male   5'7\"      Hindu      Brahmin         Hindi   \n",
       "3   4  female   5'0\"      Hindu       Thakur         Hindi   \n",
       "4   5    male   5'5\"  Christian   Born Again     Malayalam   \n",
       "\n",
       "                         profession         location          country  \\\n",
       "0                               NaN           London   United Kingdom   \n",
       "1  Doctor / Healthcare Professional      Fairfax- VA              USA   \n",
       "2         Entrepreneurs / Business         Begusarai            India   \n",
       "3                         Architect           Mumbai            India   \n",
       "4    Sales Professional / Marketing  Sulthan Bathery            India   \n",
       "\n",
       "   age_of_marriage  \n",
       "0             21.0  \n",
       "1             32.0  \n",
       "2             32.0  \n",
       "3             30.0  \n",
       "4             30.0  "
      ]
     },
     "execution_count": 1,
     "metadata": {},
     "output_type": "execute_result"
    }
   ],
   "source": [
    "import pandas as pd\n",
    "data = pd.read_csv('age_of_marriage_data.csv')\n",
    "print(data.shape)\n",
    "data.head()"
   ]
  },
  {
   "cell_type": "code",
   "execution_count": 2,
   "id": "db688af0",
   "metadata": {},
   "outputs": [
    {
     "data": {
      "text/plain": [
       "id                   0\n",
       "gender              29\n",
       "height             118\n",
       "religion           635\n",
       "caste              142\n",
       "mother_tongue      164\n",
       "profession         330\n",
       "location           155\n",
       "country             16\n",
       "age_of_marriage     19\n",
       "dtype: int64"
      ]
     },
     "execution_count": 2,
     "metadata": {},
     "output_type": "execute_result"
    }
   ],
   "source": [
    "data.isnull().sum()"
   ]
  },
  {
   "cell_type": "code",
   "execution_count": 3,
   "id": "8b8fc6d3",
   "metadata": {},
   "outputs": [
    {
     "data": {
      "text/plain": [
       "0.24737047136735488"
      ]
     },
     "execution_count": 3,
     "metadata": {},
     "output_type": "execute_result"
    }
   ],
   "source": [
    "(data.shape[0] - data.dropna().shape[0])/data.shape[0]"
   ]
  },
  {
   "cell_type": "code",
   "execution_count": 4,
   "id": "03217048",
   "metadata": {},
   "outputs": [],
   "source": [
    "data.dropna(inplace=True)"
   ]
  },
  {
   "cell_type": "code",
   "execution_count": 5,
   "id": "84771b51",
   "metadata": {},
   "outputs": [
    {
     "data": {
      "text/plain": [
       "(1932, 10)"
      ]
     },
     "execution_count": 5,
     "metadata": {},
     "output_type": "execute_result"
    }
   ],
   "source": [
    "data.shape"
   ]
  },
  {
   "cell_type": "code",
   "execution_count": 6,
   "id": "68eab4ad",
   "metadata": {
    "scrolled": true
   },
   "outputs": [
    {
     "data": {
      "text/plain": [
       "array(['Doctor / Healthcare Professional', 'Entrepreneurs / Business ',\n",
       "       'Architect', 'Sales Professional / Marketing', 'Sportsman',\n",
       "       'Banking Professional', 'Software Professional', 'HR Professional',\n",
       "       'Finance Professional', 'Not Specified', 'Not working',\n",
       "       'Chartered Accountant', 'Logistics and Travel Professional',\n",
       "       'Defense Services', 'Team Member / Staff',\n",
       "       'Managers and Senior Executives', 'Admin Professional',\n",
       "       'Accounting Professional (Others)', 'Investment Professional',\n",
       "       'Civil Engineer', 'Consultant / Supervisor / Team Leads',\n",
       "       'Public Relations Professional', 'Training Professional (Others)',\n",
       "       'Hotel & Hospitality Professional (Others)',\n",
       "       'Software Professional (Others)', 'Nurse', 'Artist (Others)',\n",
       "       'Non IT Engineer (Others)', 'Event Manager',\n",
       "       'Marketing Professional', 'Science Professional (Others)',\n",
       "       'Mechanical / Production Engineer', 'Research Assistant',\n",
       "       'Electronics / Telecom Engineer', 'Teacher', 'Professor',\n",
       "       'Interior Designer', 'Fashion Designer', 'Beautician',\n",
       "       'Software Consultant',\n",
       "       'Medical / Healthcare Professional (Others)',\n",
       "       'Agent / Broker / Trader / Contractor', 'Lawyer',\n",
       "       'Hardware & Networking professional', 'Web / UX Designers',\n",
       "       'Pharmacist', 'Research Scholar', 'Actor',\n",
       "       'Entertainment Professional', 'Student',\n",
       "       'Customer Support / BPO / KPO Professional', 'Designer (Others)',\n",
       "       'Media Professional', 'Physiotherapist / Occupational Therapist',\n",
       "       'Merchant Naval Officer', 'VP / AVP / GM / DGM',\n",
       "       'CxO / Chairman / Director / President', 'IAS / IRS / IES / IFS',\n",
       "       'Writer', 'Lecturer', 'Other Airline Professional',\n",
       "       'Social Worker / Volunteer / NGO', 'Jewellery Designer',\n",
       "       'Company Secretary', 'Mariner', 'Chef / Sommelier / Food Critic',\n",
       "       'Law Enforcement Employee (Others)', 'Hairstylist',\n",
       "       'Agricultural Professional (Others)', 'Farming',\n",
       "       'Landscape Architect', 'Psychologist', 'Legal Assistant',\n",
       "       'Dentist', 'Surgeon', 'Legal Professional (Others)',\n",
       "       'Air Hostess / Flight Attendant', 'Advertising Professional',\n",
       "       'Indian Police Services [IPS]', 'Medical Transcriptionist',\n",
       "       'Physician Assistant', 'Commercial Artist',\n",
       "       'Veterinary Doctor / Healthcare Professional', 'Pilot / Co-Pilot'],\n",
       "      dtype=object)"
      ]
     },
     "execution_count": 6,
     "metadata": {},
     "output_type": "execute_result"
    }
   ],
   "source": [
    "data.profession.unique()"
   ]
  },
  {
   "cell_type": "code",
   "execution_count": 7,
   "id": "2eacf748",
   "metadata": {},
   "outputs": [
    {
     "data": {
      "text/plain": [
       "array([' Shwetamber', ' Brahmin', ' Thakur', ' Born Again', ' Valmiki',\n",
       "       ' Rajput - Lodhi', ' Bhatia', ' Billava', ' Vanniyar', ' Agri',\n",
       "       ' Marthoma', ' Ahom', ' Baishnab', ' Roman Catholic', ' Lingayath',\n",
       "       ' Kalita', ' Vaishnav', ' Sahu', ' Baishya', ' Memon', ' Agarwal',\n",
       "       ' Panchal', ' Baidya', ' Kaibarta', ' Sindhi-Sakkhar',\n",
       "       ' Viswabrahmin', ' Patel', ' Scheduled Caste (SC)', ' Kshatriya',\n",
       "       ' Ramdasia', ' Khatri', ' OBC - Barber/Naayee', ' Baniya', ' Goud',\n",
       "       ' Balija', ' Arora', ' Kayastha', ' Gursikh', ' Arya Vysya',\n",
       "       ' Bhandari', ' Saini'], dtype=object)"
      ]
     },
     "execution_count": 7,
     "metadata": {},
     "output_type": "execute_result"
    }
   ],
   "source": [
    "data.caste.unique()"
   ]
  },
  {
   "cell_type": "code",
   "execution_count": 8,
   "id": "98440b8d",
   "metadata": {},
   "outputs": [],
   "source": [
    "X = data.drop(['profession','age_of_marriage','id','location'], axis =1)\n",
    "y = data.age_of_marriage"
   ]
  },
  {
   "cell_type": "code",
   "execution_count": null,
   "id": "04f8a113",
   "metadata": {},
   "outputs": [],
   "source": []
  },
  {
   "cell_type": "code",
   "execution_count": 10,
   "id": "ea7c324a",
   "metadata": {},
   "outputs": [
    {
     "data": {
      "text/plain": [
       "1       32.0\n",
       "2       32.0\n",
       "3       30.0\n",
       "4       30.0\n",
       "5       29.0\n",
       "        ... \n",
       "2561    30.0\n",
       "2562    27.0\n",
       "2563    31.0\n",
       "2564    28.0\n",
       "2566    32.0\n",
       "Name: age_of_marriage, Length: 1932, dtype: float64"
      ]
     },
     "execution_count": 10,
     "metadata": {},
     "output_type": "execute_result"
    }
   ],
   "source": [
    "y"
   ]
  },
  {
   "cell_type": "code",
   "execution_count": 11,
   "id": "1bfbbde2",
   "metadata": {},
   "outputs": [],
   "source": [
    "from sklearn.preprocessing import LabelEncoder\n",
    "encoder = LabelEncoder()\n"
   ]
  },
  {
   "cell_type": "code",
   "execution_count": 12,
   "id": "70db878a",
   "metadata": {},
   "outputs": [
    {
     "data": {
      "text/html": [
       "<div>\n",
       "<style scoped>\n",
       "    .dataframe tbody tr th:only-of-type {\n",
       "        vertical-align: middle;\n",
       "    }\n",
       "\n",
       "    .dataframe tbody tr th {\n",
       "        vertical-align: top;\n",
       "    }\n",
       "\n",
       "    .dataframe thead th {\n",
       "        text-align: right;\n",
       "    }\n",
       "</style>\n",
       "<table border=\"1\" class=\"dataframe\">\n",
       "  <thead>\n",
       "    <tr style=\"text-align: right;\">\n",
       "      <th></th>\n",
       "      <th>gender</th>\n",
       "      <th>height</th>\n",
       "      <th>religion</th>\n",
       "      <th>caste</th>\n",
       "      <th>mother_tongue</th>\n",
       "      <th>country</th>\n",
       "    </tr>\n",
       "  </thead>\n",
       "  <tbody>\n",
       "    <tr>\n",
       "      <th>1</th>\n",
       "      <td>1</td>\n",
       "      <td>16</td>\n",
       "      <td>2</td>\n",
       "      <td>34</td>\n",
       "      <td>6</td>\n",
       "      <td>19</td>\n",
       "    </tr>\n",
       "    <tr>\n",
       "      <th>2</th>\n",
       "      <td>1</td>\n",
       "      <td>16</td>\n",
       "      <td>1</td>\n",
       "      <td>14</td>\n",
       "      <td>8</td>\n",
       "      <td>5</td>\n",
       "    </tr>\n",
       "    <tr>\n",
       "      <th>3</th>\n",
       "      <td>0</td>\n",
       "      <td>7</td>\n",
       "      <td>1</td>\n",
       "      <td>36</td>\n",
       "      <td>8</td>\n",
       "      <td>5</td>\n",
       "    </tr>\n",
       "    <tr>\n",
       "      <th>4</th>\n",
       "      <td>1</td>\n",
       "      <td>14</td>\n",
       "      <td>0</td>\n",
       "      <td>13</td>\n",
       "      <td>13</td>\n",
       "      <td>5</td>\n",
       "    </tr>\n",
       "    <tr>\n",
       "      <th>5</th>\n",
       "      <td>1</td>\n",
       "      <td>14</td>\n",
       "      <td>1</td>\n",
       "      <td>38</td>\n",
       "      <td>8</td>\n",
       "      <td>5</td>\n",
       "    </tr>\n",
       "    <tr>\n",
       "      <th>...</th>\n",
       "      <td>...</td>\n",
       "      <td>...</td>\n",
       "      <td>...</td>\n",
       "      <td>...</td>\n",
       "      <td>...</td>\n",
       "      <td>...</td>\n",
       "    </tr>\n",
       "    <tr>\n",
       "      <th>2561</th>\n",
       "      <td>1</td>\n",
       "      <td>10</td>\n",
       "      <td>1</td>\n",
       "      <td>21</td>\n",
       "      <td>18</td>\n",
       "      <td>5</td>\n",
       "    </tr>\n",
       "    <tr>\n",
       "      <th>2562</th>\n",
       "      <td>0</td>\n",
       "      <td>12</td>\n",
       "      <td>1</td>\n",
       "      <td>36</td>\n",
       "      <td>8</td>\n",
       "      <td>5</td>\n",
       "    </tr>\n",
       "    <tr>\n",
       "      <th>2563</th>\n",
       "      <td>1</td>\n",
       "      <td>10</td>\n",
       "      <td>1</td>\n",
       "      <td>36</td>\n",
       "      <td>8</td>\n",
       "      <td>3</td>\n",
       "    </tr>\n",
       "    <tr>\n",
       "      <th>2564</th>\n",
       "      <td>0</td>\n",
       "      <td>12</td>\n",
       "      <td>1</td>\n",
       "      <td>7</td>\n",
       "      <td>2</td>\n",
       "      <td>5</td>\n",
       "    </tr>\n",
       "    <tr>\n",
       "      <th>2566</th>\n",
       "      <td>0</td>\n",
       "      <td>11</td>\n",
       "      <td>0</td>\n",
       "      <td>23</td>\n",
       "      <td>13</td>\n",
       "      <td>5</td>\n",
       "    </tr>\n",
       "  </tbody>\n",
       "</table>\n",
       "<p>1932 rows × 6 columns</p>\n",
       "</div>"
      ],
      "text/plain": [
       "      gender  height  religion  caste  mother_tongue  country\n",
       "1          1      16         2     34              6       19\n",
       "2          1      16         1     14              8        5\n",
       "3          0       7         1     36              8        5\n",
       "4          1      14         0     13             13        5\n",
       "5          1      14         1     38              8        5\n",
       "...      ...     ...       ...    ...            ...      ...\n",
       "2561       1      10         1     21             18        5\n",
       "2562       0      12         1     36              8        5\n",
       "2563       1      10         1     36              8        3\n",
       "2564       0      12         1      7              2        5\n",
       "2566       0      11         0     23             13        5\n",
       "\n",
       "[1932 rows x 6 columns]"
      ]
     },
     "execution_count": 12,
     "metadata": {},
     "output_type": "execute_result"
    }
   ],
   "source": [
    "X.apply(encoder.fit_transform)"
   ]
  },
  {
   "cell_type": "code",
   "execution_count": 13,
   "id": "3465f403",
   "metadata": {},
   "outputs": [
    {
     "data": {
      "text/plain": [
       "152.4"
      ]
     },
     "execution_count": 13,
     "metadata": {},
     "output_type": "execute_result"
    }
   ],
   "source": [
    "int(X.loc[1,'height'].split('\\'')[0])*12*2.54"
   ]
  },
  {
   "cell_type": "code",
   "execution_count": 14,
   "id": "e96da83b",
   "metadata": {},
   "outputs": [
    {
     "data": {
      "text/plain": [
       "17.78"
      ]
     },
     "execution_count": 14,
     "metadata": {},
     "output_type": "execute_result"
    }
   ],
   "source": [
    "int(X.loc[1,'height'].split('\\'')[1].replace('\"',''))*2.54"
   ]
  },
  {
   "cell_type": "code",
   "execution_count": 15,
   "id": "9e2fa907",
   "metadata": {},
   "outputs": [],
   "source": [
    "def inch_to_cm(x):\n",
    "    a=int(x.split('\\'')[0])*12*2.54\n",
    "    b=int(x.split('\\'')[1].replace('\"',''))*2.54\n",
    "    return a+b"
   ]
  },
  {
   "cell_type": "code",
   "execution_count": 16,
   "id": "811cffa5",
   "metadata": {},
   "outputs": [],
   "source": [
    "X['height'] = X['height'].apply(inch_to_cm)"
   ]
  },
  {
   "cell_type": "code",
   "execution_count": 17,
   "id": "7d7865e3",
   "metadata": {},
   "outputs": [
    {
     "data": {
      "text/html": [
       "<div>\n",
       "<style scoped>\n",
       "    .dataframe tbody tr th:only-of-type {\n",
       "        vertical-align: middle;\n",
       "    }\n",
       "\n",
       "    .dataframe tbody tr th {\n",
       "        vertical-align: top;\n",
       "    }\n",
       "\n",
       "    .dataframe thead th {\n",
       "        text-align: right;\n",
       "    }\n",
       "</style>\n",
       "<table border=\"1\" class=\"dataframe\">\n",
       "  <thead>\n",
       "    <tr style=\"text-align: right;\">\n",
       "      <th></th>\n",
       "      <th>gender</th>\n",
       "      <th>height</th>\n",
       "      <th>religion</th>\n",
       "      <th>caste</th>\n",
       "      <th>mother_tongue</th>\n",
       "      <th>country</th>\n",
       "    </tr>\n",
       "  </thead>\n",
       "  <tbody>\n",
       "    <tr>\n",
       "      <th>1</th>\n",
       "      <td>male</td>\n",
       "      <td>170.18</td>\n",
       "      <td>Jain</td>\n",
       "      <td>Shwetamber</td>\n",
       "      <td>Gujarati</td>\n",
       "      <td>USA</td>\n",
       "    </tr>\n",
       "    <tr>\n",
       "      <th>2</th>\n",
       "      <td>male</td>\n",
       "      <td>170.18</td>\n",
       "      <td>Hindu</td>\n",
       "      <td>Brahmin</td>\n",
       "      <td>Hindi</td>\n",
       "      <td>India</td>\n",
       "    </tr>\n",
       "    <tr>\n",
       "      <th>3</th>\n",
       "      <td>female</td>\n",
       "      <td>152.40</td>\n",
       "      <td>Hindu</td>\n",
       "      <td>Thakur</td>\n",
       "      <td>Hindi</td>\n",
       "      <td>India</td>\n",
       "    </tr>\n",
       "    <tr>\n",
       "      <th>4</th>\n",
       "      <td>male</td>\n",
       "      <td>165.10</td>\n",
       "      <td>Christian</td>\n",
       "      <td>Born Again</td>\n",
       "      <td>Malayalam</td>\n",
       "      <td>India</td>\n",
       "    </tr>\n",
       "    <tr>\n",
       "      <th>5</th>\n",
       "      <td>male</td>\n",
       "      <td>165.10</td>\n",
       "      <td>Hindu</td>\n",
       "      <td>Valmiki</td>\n",
       "      <td>Hindi</td>\n",
       "      <td>India</td>\n",
       "    </tr>\n",
       "    <tr>\n",
       "      <th>6</th>\n",
       "      <td>female</td>\n",
       "      <td>157.48</td>\n",
       "      <td>Hindu</td>\n",
       "      <td>Rajput - Lodhi</td>\n",
       "      <td>Hindi</td>\n",
       "      <td>India</td>\n",
       "    </tr>\n",
       "    <tr>\n",
       "      <th>7</th>\n",
       "      <td>male</td>\n",
       "      <td>165.10</td>\n",
       "      <td>Hindu</td>\n",
       "      <td>Bhatia</td>\n",
       "      <td>Punjabi</td>\n",
       "      <td>India</td>\n",
       "    </tr>\n",
       "    <tr>\n",
       "      <th>8</th>\n",
       "      <td>female</td>\n",
       "      <td>165.10</td>\n",
       "      <td>Jain</td>\n",
       "      <td>Shwetamber</td>\n",
       "      <td>Gujarati</td>\n",
       "      <td>India</td>\n",
       "    </tr>\n",
       "    <tr>\n",
       "      <th>9</th>\n",
       "      <td>female</td>\n",
       "      <td>154.94</td>\n",
       "      <td>Hindu</td>\n",
       "      <td>Billava</td>\n",
       "      <td>Tulu</td>\n",
       "      <td>India</td>\n",
       "    </tr>\n",
       "    <tr>\n",
       "      <th>11</th>\n",
       "      <td>male</td>\n",
       "      <td>175.26</td>\n",
       "      <td>Hindu</td>\n",
       "      <td>Brahmin</td>\n",
       "      <td>Bengali</td>\n",
       "      <td>India</td>\n",
       "    </tr>\n",
       "  </tbody>\n",
       "</table>\n",
       "</div>"
      ],
      "text/plain": [
       "    gender  height   religion            caste mother_tongue country\n",
       "1     male  170.18       Jain       Shwetamber      Gujarati     USA\n",
       "2     male  170.18      Hindu          Brahmin         Hindi   India\n",
       "3   female  152.40      Hindu           Thakur         Hindi   India\n",
       "4     male  165.10  Christian       Born Again     Malayalam   India\n",
       "5     male  165.10      Hindu          Valmiki         Hindi   India\n",
       "6   female  157.48      Hindu   Rajput - Lodhi         Hindi   India\n",
       "7     male  165.10      Hindu           Bhatia       Punjabi   India\n",
       "8   female  165.10       Jain       Shwetamber      Gujarati   India\n",
       "9   female  154.94      Hindu          Billava          Tulu   India\n",
       "11    male  175.26      Hindu          Brahmin       Bengali   India"
      ]
     },
     "execution_count": 17,
     "metadata": {},
     "output_type": "execute_result"
    }
   ],
   "source": [
    "X.head(10)"
   ]
  },
  {
   "cell_type": "code",
   "execution_count": null,
   "id": "9e5d9aae",
   "metadata": {},
   "outputs": [],
   "source": []
  },
  {
   "cell_type": "code",
   "execution_count": 21,
   "id": "902055c6",
   "metadata": {},
   "outputs": [
    {
     "name": "stdout",
     "output_type": "stream",
     "text": [
      "{'gender': {'female': 0, 'male': 1}, 'religion': {'Christian': 0, 'Hindu': 1, 'Jain': 2, 'Muslim': 3, 'Sikh': 4}, 'caste': {' Agarwal': 0, ' Agri': 1, ' Ahom': 2, ' Arora': 3, ' Arya Vysya': 4, ' Baidya': 5, ' Baishnab': 6, ' Baishya': 7, ' Balija': 8, ' Baniya': 9, ' Bhandari': 10, ' Bhatia': 11, ' Billava': 12, ' Born Again': 13, ' Brahmin': 14, ' Goud': 15, ' Gursikh': 16, ' Kaibarta': 17, ' Kalita': 18, ' Kayastha': 19, ' Khatri': 20, ' Kshatriya': 21, ' Lingayath': 22, ' Marthoma': 23, ' Memon': 24, ' OBC - Barber/Naayee': 25, ' Panchal': 26, ' Patel': 27, ' Rajput - Lodhi': 28, ' Ramdasia': 29, ' Roman Catholic': 30, ' Sahu': 31, ' Saini': 32, ' Scheduled Caste (SC)': 33, ' Shwetamber': 34, ' Sindhi-Sakkhar': 35, ' Thakur': 36, ' Vaishnav': 37, ' Valmiki': 38, ' Vanniyar': 39, ' Viswabrahmin': 40}, 'mother_tongue': {'Aka': 0, 'Assamese': 1, 'Bengali': 2, 'Bhojpuri': 3, 'Chattisgarhi': 4, 'English': 5, 'Gujarati': 6, 'Haryanavi': 7, 'Hindi': 8, 'Kannada': 9, 'Kashmiri': 10, 'Konkani': 11, 'Kutchi': 12, 'Malayalam': 13, 'Manipuri': 14, 'Marathi': 15, 'Marwari': 16, 'Nepali': 17, 'Odia': 18, 'Other': 19, 'Punjabi': 20, 'Rajasthani': 21, 'Sindhi': 22, 'Tamil': 23, 'Telugu': 24, 'Tulu': 25, 'Urdu': 26}, 'country': {' Australia': 0, ' Bahrain': 1, ' Bangladesh': 2, ' Canada': 3, ' Germany': 4, ' India': 5, ' Ireland': 6, ' Kuwait': 7, ' Malaysia': 8, ' Myanmar': 9, ' Netherlands': 10, ' New Zealand': 11, ' Norway': 12, ' Oman': 13, ' Pakistan': 14, ' Philippines': 15, ' Qatar': 16, ' Singapore': 17, ' South Africa': 18, ' USA': 19, ' United Arab Emirates': 20, ' United Kingdom': 21}}\n"
     ]
    }
   ],
   "source": [
    "columns = ['gender','religion','caste','mother_tongue','country']\n",
    "mapping_dict ={}\n",
    "\n",
    "for col in columns:\n",
    "    X[col] = encoder.fit_transform(X[col])\n",
    " \n",
    "    le_name_mapping = dict(zip(encoder.classes_,\n",
    "                        encoder.transform(encoder.classes_)))\n",
    " \n",
    "    mapping_dict[col]= le_name_mapping\n",
    "print(mapping_dict)\n"
   ]
  },
  {
   "cell_type": "code",
   "execution_count": null,
   "id": "ad893749",
   "metadata": {},
   "outputs": [],
   "source": []
  },
  {
   "cell_type": "code",
   "execution_count": 57,
   "id": "06f36976",
   "metadata": {},
   "outputs": [],
   "source": [
    "#X.loc[:,['gender','religion','caste','mother_tongue','country']] = \\\n",
    "#X.loc[:,['gender','religion','caste','mother_tongue','country']].apply(encoder.fit_transform)"
   ]
  },
  {
   "cell_type": "code",
   "execution_count": 22,
   "id": "f37c5ecb",
   "metadata": {},
   "outputs": [
    {
     "data": {
      "text/html": [
       "<div>\n",
       "<style scoped>\n",
       "    .dataframe tbody tr th:only-of-type {\n",
       "        vertical-align: middle;\n",
       "    }\n",
       "\n",
       "    .dataframe tbody tr th {\n",
       "        vertical-align: top;\n",
       "    }\n",
       "\n",
       "    .dataframe thead th {\n",
       "        text-align: right;\n",
       "    }\n",
       "</style>\n",
       "<table border=\"1\" class=\"dataframe\">\n",
       "  <thead>\n",
       "    <tr style=\"text-align: right;\">\n",
       "      <th></th>\n",
       "      <th>gender</th>\n",
       "      <th>height</th>\n",
       "      <th>religion</th>\n",
       "      <th>caste</th>\n",
       "      <th>mother_tongue</th>\n",
       "      <th>country</th>\n",
       "    </tr>\n",
       "  </thead>\n",
       "  <tbody>\n",
       "    <tr>\n",
       "      <th>1</th>\n",
       "      <td>1</td>\n",
       "      <td>170.18</td>\n",
       "      <td>2</td>\n",
       "      <td>34</td>\n",
       "      <td>6</td>\n",
       "      <td>19</td>\n",
       "    </tr>\n",
       "    <tr>\n",
       "      <th>2</th>\n",
       "      <td>1</td>\n",
       "      <td>170.18</td>\n",
       "      <td>1</td>\n",
       "      <td>14</td>\n",
       "      <td>8</td>\n",
       "      <td>5</td>\n",
       "    </tr>\n",
       "    <tr>\n",
       "      <th>3</th>\n",
       "      <td>0</td>\n",
       "      <td>152.40</td>\n",
       "      <td>1</td>\n",
       "      <td>36</td>\n",
       "      <td>8</td>\n",
       "      <td>5</td>\n",
       "    </tr>\n",
       "    <tr>\n",
       "      <th>4</th>\n",
       "      <td>1</td>\n",
       "      <td>165.10</td>\n",
       "      <td>0</td>\n",
       "      <td>13</td>\n",
       "      <td>13</td>\n",
       "      <td>5</td>\n",
       "    </tr>\n",
       "    <tr>\n",
       "      <th>5</th>\n",
       "      <td>1</td>\n",
       "      <td>165.10</td>\n",
       "      <td>1</td>\n",
       "      <td>38</td>\n",
       "      <td>8</td>\n",
       "      <td>5</td>\n",
       "    </tr>\n",
       "  </tbody>\n",
       "</table>\n",
       "</div>"
      ],
      "text/plain": [
       "   gender  height  religion  caste  mother_tongue  country\n",
       "1       1  170.18         2     34              6       19\n",
       "2       1  170.18         1     14              8        5\n",
       "3       0  152.40         1     36              8        5\n",
       "4       1  165.10         0     13             13        5\n",
       "5       1  165.10         1     38              8        5"
      ]
     },
     "execution_count": 22,
     "metadata": {},
     "output_type": "execute_result"
    }
   ],
   "source": [
    "X.head()"
   ]
  },
  {
   "cell_type": "code",
   "execution_count": 23,
   "id": "0e24c8aa",
   "metadata": {},
   "outputs": [],
   "source": [
    "\n",
    "from sklearn.model_selection import train_test_split\n",
    "X_train,X_test,y_train,y_test = train_test_split(X,y,test_size=0.2,random_state=0)"
   ]
  },
  {
   "cell_type": "code",
   "execution_count": 24,
   "id": "b54b41ce",
   "metadata": {},
   "outputs": [],
   "source": [
    "from sklearn.ensemble import RandomForestRegressor\n",
    "model = RandomForestRegressor(n_estimators=80,max_depth=11)\n",
    "model.fit(X_train,y_train)\n",
    "y_predict = model.predict(X_test)"
   ]
  },
  {
   "cell_type": "markdown",
   "id": "d10fe9eb",
   "metadata": {},
   "source": [
    "## Evaluation"
   ]
  },
  {
   "cell_type": "code",
   "execution_count": 25,
   "id": "f8b738b9",
   "metadata": {},
   "outputs": [
    {
     "name": "stdout",
     "output_type": "stream",
     "text": [
      "MAE :  1.0424182081420916\n"
     ]
    },
    {
     "data": {
      "text/plain": [
       "0.697861714346409"
      ]
     },
     "execution_count": 25,
     "metadata": {},
     "output_type": "execute_result"
    }
   ],
   "source": [
    "from sklearn.metrics import mean_absolute_error, r2_score\n",
    "print(\"MAE : \", mean_absolute_error(y_test,y_predict))\n",
    "r2_score(y_test,y_predict)"
   ]
  },
  {
   "cell_type": "code",
   "execution_count": 28,
   "id": "b459616f",
   "metadata": {},
   "outputs": [
    {
     "data": {
      "text/plain": [
       "array([31.42854642])"
      ]
     },
     "execution_count": 28,
     "metadata": {},
     "output_type": "execute_result"
    }
   ],
   "source": [
    "model.predict([[1,180,1,0,6,5]])"
   ]
  },
  {
   "cell_type": "markdown",
   "id": "35a552bb",
   "metadata": {},
   "source": [
    "\n",
    "# Export model"
   ]
  },
  {
   "cell_type": "code",
   "execution_count": 29,
   "id": "240dfa0a",
   "metadata": {},
   "outputs": [
    {
     "data": {
      "text/plain": [
       "['marriage_age_predict_model.ml']"
      ]
     },
     "execution_count": 29,
     "metadata": {},
     "output_type": "execute_result"
    }
   ],
   "source": [
    "from joblib import dump, load\n",
    "dump(model,'marriage_age_predict_model.ml')"
   ]
  },
  {
   "cell_type": "code",
   "execution_count": null,
   "id": "ba965c0d",
   "metadata": {},
   "outputs": [],
   "source": []
  }
 ],
 "metadata": {
  "kernelspec": {
   "display_name": "Python 3",
   "language": "python",
   "name": "python3"
  }
 },
 "nbformat": 4,
 "nbformat_minor": 5
}

{
 "cells": [
  {
   "cell_type": "code",
   "execution_count": 1,
   "id": "7afb04fe",
   "metadata": {},
   "outputs": [],
   "source": [
    "from joblib import dump, load\n",
    "model = load('marriage_age_predict_model.ml') "
   ]
  },
  {
   "cell_type": "code",
   "execution_count": null,
   "id": "4a2464e4",
   "metadata": {},
   "outputs": [],
   "source": [
    "model.predict([[1,180,1,13,6,5]])"
   ]
  },
  {
   "cell_type": "code",
   "execution_count": null,
   "id": "943c723a",
   "metadata": {},
   "outputs": [],
   "source": []
  }
 ],
 "metadata": {
  "kernelspec": {
   "display_name": "Python 3",
   "language": "python",
   "name": "python3"
  },
  "language_info": {
   "codemirror_mode": {
    "name": "ipython",
    "version": 3
   },
   "file_extension": ".py",
   "mimetype": "text/x-python",
   "name": "python",
   "nbconvert_exporter": "python",
   "pygments_lexer": "ipython3",
   "version": "3.8.8"
  }
 },
 "nbformat": 4,
 "nbformat_minor": 5
}
